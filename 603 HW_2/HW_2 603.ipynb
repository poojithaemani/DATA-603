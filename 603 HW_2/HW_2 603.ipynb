{
 "cells": [
  {
   "cell_type": "code",
   "execution_count": 1,
   "id": "504332a2",
   "metadata": {},
   "outputs": [
    {
     "name": "stdout",
     "output_type": "stream",
     "text": [
      "Requirement already satisfied: mrjob in c:\\users\\pooji\\anaconda3\\lib\\site-packages (0.7.4)\n",
      "Requirement already satisfied: PyYAML>=3.10 in c:\\users\\pooji\\anaconda3\\lib\\site-packages (from mrjob) (6.0)\n"
     ]
    }
   ],
   "source": [
    "!pip install mrjob"
   ]
  },
  {
   "cell_type": "code",
   "execution_count": 2,
   "id": "8382d0ba",
   "metadata": {},
   "outputs": [],
   "source": [
    "#importing pandas libary\n",
    "import pandas as pd"
   ]
  },
  {
   "cell_type": "code",
   "execution_count": 3,
   "id": "4504c98b",
   "metadata": {},
   "outputs": [
    {
     "data": {
      "text/html": [
       "<div>\n",
       "<style scoped>\n",
       "    .dataframe tbody tr th:only-of-type {\n",
       "        vertical-align: middle;\n",
       "    }\n",
       "\n",
       "    .dataframe tbody tr th {\n",
       "        vertical-align: top;\n",
       "    }\n",
       "\n",
       "    .dataframe thead th {\n",
       "        text-align: right;\n",
       "    }\n",
       "</style>\n",
       "<table border=\"1\" class=\"dataframe\">\n",
       "  <thead>\n",
       "    <tr style=\"text-align: right;\">\n",
       "      <th></th>\n",
       "      <th>business_id</th>\n",
       "      <th>date</th>\n",
       "      <th>review_id</th>\n",
       "      <th>stars</th>\n",
       "      <th>text</th>\n",
       "      <th>type</th>\n",
       "      <th>user_id</th>\n",
       "      <th>cool</th>\n",
       "      <th>useful</th>\n",
       "      <th>funny</th>\n",
       "    </tr>\n",
       "  </thead>\n",
       "  <tbody>\n",
       "    <tr>\n",
       "      <th>0</th>\n",
       "      <td>9yKzy9PApeiPPOUJEtnvkg</td>\n",
       "      <td>2011-01-26</td>\n",
       "      <td>fWKvX83p0-ka4JS3dc6E5A</td>\n",
       "      <td>5</td>\n",
       "      <td>My wife took me here on my birthday for breakf...</td>\n",
       "      <td>review</td>\n",
       "      <td>rLtl8ZkDX5vH5nAx9C3q5Q</td>\n",
       "      <td>2</td>\n",
       "      <td>5</td>\n",
       "      <td>0</td>\n",
       "    </tr>\n",
       "    <tr>\n",
       "      <th>1</th>\n",
       "      <td>ZRJwVLyzEJq1VAihDhYiow</td>\n",
       "      <td>2011-07-27</td>\n",
       "      <td>IjZ33sJrzXqU-0X6U8NwyA</td>\n",
       "      <td>5</td>\n",
       "      <td>I have no idea why some people give bad review...</td>\n",
       "      <td>review</td>\n",
       "      <td>0a2KyEL0d3Yb1V6aivbIuQ</td>\n",
       "      <td>0</td>\n",
       "      <td>0</td>\n",
       "      <td>0</td>\n",
       "    </tr>\n",
       "    <tr>\n",
       "      <th>2</th>\n",
       "      <td>6oRAC4uyJCsJl1X0WZpVSA</td>\n",
       "      <td>2012-06-14</td>\n",
       "      <td>IESLBzqUCLdSzSqm0eCSxQ</td>\n",
       "      <td>4</td>\n",
       "      <td>love the gyro plate. Rice is so good and I als...</td>\n",
       "      <td>review</td>\n",
       "      <td>0hT2KtfLiobPvh6cDC8JQg</td>\n",
       "      <td>0</td>\n",
       "      <td>1</td>\n",
       "      <td>0</td>\n",
       "    </tr>\n",
       "    <tr>\n",
       "      <th>3</th>\n",
       "      <td>_1QQZuf4zZOyFCvXc0o6Vg</td>\n",
       "      <td>2010-05-27</td>\n",
       "      <td>G-WvGaISbqqaMHlNnByodA</td>\n",
       "      <td>5</td>\n",
       "      <td>Rosie, Dakota, and I LOVE Chaparral Dog Park!!...</td>\n",
       "      <td>review</td>\n",
       "      <td>uZetl9T0NcROGOyFfughhg</td>\n",
       "      <td>1</td>\n",
       "      <td>2</td>\n",
       "      <td>0</td>\n",
       "    </tr>\n",
       "    <tr>\n",
       "      <th>4</th>\n",
       "      <td>6ozycU1RpktNG2-1BroVtw</td>\n",
       "      <td>2012-01-05</td>\n",
       "      <td>1uJFq2r5QfJG_6ExMRCaGw</td>\n",
       "      <td>5</td>\n",
       "      <td>General Manager Scott Petello is a good egg!!!...</td>\n",
       "      <td>review</td>\n",
       "      <td>vYmM4KTsC8ZfQBg-j5MWkw</td>\n",
       "      <td>0</td>\n",
       "      <td>0</td>\n",
       "      <td>0</td>\n",
       "    </tr>\n",
       "  </tbody>\n",
       "</table>\n",
       "</div>"
      ],
      "text/plain": [
       "              business_id        date               review_id  stars  \\\n",
       "0  9yKzy9PApeiPPOUJEtnvkg  2011-01-26  fWKvX83p0-ka4JS3dc6E5A      5   \n",
       "1  ZRJwVLyzEJq1VAihDhYiow  2011-07-27  IjZ33sJrzXqU-0X6U8NwyA      5   \n",
       "2  6oRAC4uyJCsJl1X0WZpVSA  2012-06-14  IESLBzqUCLdSzSqm0eCSxQ      4   \n",
       "3  _1QQZuf4zZOyFCvXc0o6Vg  2010-05-27  G-WvGaISbqqaMHlNnByodA      5   \n",
       "4  6ozycU1RpktNG2-1BroVtw  2012-01-05  1uJFq2r5QfJG_6ExMRCaGw      5   \n",
       "\n",
       "                                                text    type  \\\n",
       "0  My wife took me here on my birthday for breakf...  review   \n",
       "1  I have no idea why some people give bad review...  review   \n",
       "2  love the gyro plate. Rice is so good and I als...  review   \n",
       "3  Rosie, Dakota, and I LOVE Chaparral Dog Park!!...  review   \n",
       "4  General Manager Scott Petello is a good egg!!!...  review   \n",
       "\n",
       "                  user_id  cool  useful  funny  \n",
       "0  rLtl8ZkDX5vH5nAx9C3q5Q     2       5      0  \n",
       "1  0a2KyEL0d3Yb1V6aivbIuQ     0       0      0  \n",
       "2  0hT2KtfLiobPvh6cDC8JQg     0       1      0  \n",
       "3  uZetl9T0NcROGOyFfughhg     1       2      0  \n",
       "4  vYmM4KTsC8ZfQBg-j5MWkw     0       0      0  "
      ]
     },
     "execution_count": 3,
     "metadata": {},
     "output_type": "execute_result"
    }
   ],
   "source": [
    "#reading csv file\n",
    "data=pd.read_csv('yelp.csv')\n",
    "#displaying first 5 rows\n",
    "data.head(5)"
   ]
  },
  {
   "cell_type": "code",
   "execution_count": 4,
   "id": "d6f292a3",
   "metadata": {},
   "outputs": [
    {
     "data": {
      "text/plain": [
       "(10000, 10)"
      ]
     },
     "execution_count": 4,
     "metadata": {},
     "output_type": "execute_result"
    }
   ],
   "source": [
    "#getting number of rows and columns in a data frame\n",
    "data.shape"
   ]
  },
  {
   "cell_type": "code",
   "execution_count": 5,
   "id": "4f783da8",
   "metadata": {},
   "outputs": [
    {
     "data": {
      "text/plain": [
       "Index(['business_id', 'date', 'review_id', 'stars', 'text', 'type', 'user_id',\n",
       "       'cool', 'useful', 'funny'],\n",
       "      dtype='object')"
      ]
     },
     "execution_count": 5,
     "metadata": {},
     "output_type": "execute_result"
    }
   ],
   "source": [
    "#printing all columns in data frame\n",
    "data.columns"
   ]
  },
  {
   "cell_type": "code",
   "execution_count": 6,
   "id": "674bdf9d",
   "metadata": {},
   "outputs": [],
   "source": [
    "#replacing newline characters with a space in all columns with a regular expression\n",
    "data = data.replace(r'\\n',' ', regex=True)\n",
    "#saving modified data frame to new csv file\n",
    "data.to_csv(\"yelp_df.csv\")"
   ]
  },
  {
   "cell_type": "markdown",
   "id": "5f611c4f",
   "metadata": {},
   "source": [
    "# (1) AVERAGE NUMBER OF WORDS IN EACH REVIEW"
   ]
  },
  {
   "cell_type": "code",
   "execution_count": 7,
   "id": "a42fa6aa",
   "metadata": {},
   "outputs": [
    {
     "name": "stdout",
     "output_type": "stream",
     "text": [
      "Writing Avgcount2.py\n"
     ]
    }
   ],
   "source": [
    "%%file Avgcount2.py\n",
    "from mrjob.job import MRJob\n",
    "import csv\n",
    "\n",
    "class AvgWordCount(MRJob):\n",
    "# define a MapReduce class named AvgWordCount, inheriting from MRJob\n",
    "\n",
    "    def mapper(self, _, line):\n",
    "        #create a csv reader and converts the line to list\n",
    "        id,business_id,date,review_id,stars,text,type,user_id,cool,useful,funny=next(csv.reader([line]))\n",
    "        \n",
    "        # emit key-value pair where the key is 0 and the value is the length of the text split by spaces\n",
    "\n",
    "        yield 0,len(text.split(\" \"))\n",
    "        \n",
    "    # reducer function, called for each unique key    \n",
    "    def reducer(self, cell, values):\n",
    "        # convert the values iterator to a list\n",
    "        values = list(values)\n",
    "        # calculate the sum and count of words\n",
    "        total_words = sum(values)\n",
    "        word_count = len(values)\n",
    "        \n",
    "        # calculate the average number of words\n",
    "        average_words = total_words / word_count\n",
    "        yield None, average_words\n",
    "\n",
    "\n",
    "# entry point to run the MapReduce job if this script is executed\n",
    "\n",
    "if __name__ == '__main__':\n",
    "    AvgWordCount.run()\n",
    "\n",
    "    \n"
   ]
  },
  {
   "cell_type": "code",
   "execution_count": 8,
   "id": "a020cef9",
   "metadata": {},
   "outputs": [
    {
     "name": "stderr",
     "output_type": "stream",
     "text": [
      "No configs specified for inline runner\n"
     ]
    },
    {
     "name": "stdout",
     "output_type": "stream",
     "text": [
      "None 136.32086791320867\n"
     ]
    }
   ],
   "source": [
    "# importing AvgWordCount class from Avgcount2 module\n",
    "import Avgcount2\n",
    "\n",
    "# create an instance of AvgWordCount MapReduce job \n",
    "\n",
    "mr_job = Avgcount2.AvgWordCount(args=['yelp_df.csv'])\n",
    "# using make_runner method to create a runner for the MapReduce job\n",
    "\n",
    "with mr_job.make_runner() as runner:\n",
    "    runner.run()\n",
    "    for key, value in mr_job.parse_output(runner.cat_output()):\n",
    "        # print each key \n",
    "        print(key,value)"
   ]
  },
  {
   "cell_type": "markdown",
   "id": "1000a68e",
   "metadata": {},
   "source": [
    "# (2) COUNT OF REVIEWS BY YEAR-MONTH"
   ]
  },
  {
   "cell_type": "code",
   "execution_count": 9,
   "id": "2a289e0f",
   "metadata": {},
   "outputs": [
    {
     "name": "stdout",
     "output_type": "stream",
     "text": [
      "Writing yearmonth.py\n"
     ]
    }
   ],
   "source": [
    "%%file yearmonth.py\n",
    "from mrjob.job import MRJob\n",
    "import csv\n",
    "\n",
    "# define a MapReduce job class named MRyearmonth, inheriting from MRJob\n",
    "class MRyearmonth(MRJob):\n",
    "    \n",
    "    def mapper(self, _,line):\n",
    "        # split CSV line into individual values\n",
    "        \n",
    "        id,business_id,date,review_id,stars,text,type,user_id,cool,useful,funny=next(csv.reader([line]))\n",
    "        \n",
    "        #extract the year and month from the date column and emit a key-value pair\n",
    "        yield date[:7],1\n",
    "        \n",
    "    #define reducer function\n",
    "    def reducer(self,key,values):\n",
    "        #sum the values for each key\n",
    "        yield key,sum(values) \n",
    "        \n",
    "if __name__=='__main__':\n",
    "    MRyearmonth.run()"
   ]
  },
  {
   "cell_type": "code",
   "execution_count": 10,
   "id": "be330592",
   "metadata": {},
   "outputs": [
    {
     "name": "stderr",
     "output_type": "stream",
     "text": [
      "No configs specified for inline runner\n"
     ]
    },
    {
     "name": "stdout",
     "output_type": "stream",
     "text": [
      "2005-04 1\n",
      "2005-07 2\n",
      "2005-12 1\n",
      "2006-01 6\n",
      "2006-02 9\n",
      "2006-04 2\n",
      "2006-05 1\n",
      "2006-06 5\n",
      "2006-07 2\n",
      "2006-08 9\n",
      "2006-09 4\n",
      "2006-10 5\n",
      "2006-11 6\n",
      "2006-12 6\n",
      "2007-01 14\n",
      "2007-02 20\n",
      "2007-03 42\n",
      "2007-04 8\n",
      "2007-05 23\n",
      "2007-06 12\n",
      "2007-07 35\n",
      "2007-08 29\n",
      "2007-09 26\n",
      "2007-10 23\n",
      "2007-11 28\n",
      "2007-12 25\n",
      "2008-01 46\n",
      "2008-02 48\n",
      "2008-03 47\n",
      "2008-04 53\n",
      "2008-05 65\n",
      "2008-06 76\n",
      "2008-07 80\n",
      "2008-08 75\n",
      "2008-09 59\n",
      "2008-10 79\n",
      "2008-11 66\n",
      "2008-12 71\n",
      "2009-01 108\n",
      "2009-02 79\n",
      "2009-03 126\n",
      "2009-04 101\n",
      "2009-05 101\n",
      "2009-06 67\n",
      "2009-07 95\n",
      "2009-08 98\n",
      "2009-09 113\n",
      "2009-10 101\n",
      "2009-11 78\n",
      "2009-12 104\n",
      "2010-01 154\n",
      "2010-02 148\n",
      "2010-03 168\n",
      "2010-04 148\n",
      "2010-05 154\n",
      "2010-06 118\n",
      "2010-07 160\n",
      "2010-08 201\n",
      "2010-09 150\n",
      "2010-10 144\n",
      "2010-11 147\n",
      "2010-12 160\n",
      "2011-01 239\n",
      "2011-02 216\n",
      "2011-03 263\n",
      "2011-04 263\n",
      "2011-05 229\n",
      "2011-06 230\n",
      "2011-07 236\n",
      "2011-08 266\n",
      "2011-09 193\n",
      "2011-10 204\n",
      "2011-11 203\n",
      "2011-12 249\n",
      "2012-01 304\n",
      "2012-02 219\n",
      "2012-03 259\n",
      "2012-04 265\n",
      "2012-05 275\n",
      "2012-06 272\n",
      "2012-07 281\n",
      "2012-08 249\n",
      "2012-09 239\n",
      "2012-10 258\n",
      "2012-11 208\n",
      "2012-12 196\n",
      "2013-01 52\n",
      "date 1\n"
     ]
    }
   ],
   "source": [
    "import yearmonth\n",
    "\n",
    "# create an instance of  MRyearmonth MapReduce job \n",
    "mr_job = yearmonth.MRyearmonth(args=['yelp_df.csv'])\n",
    "\n",
    "# use a context manager to manage the runner for the MapReduce job\n",
    "\n",
    "with mr_job.make_runner() as runner:\n",
    "    runner.run()\n",
    "    for key, value in mr_job.parse_output(runner.cat_output()):\n",
    "        print(key,value)"
   ]
  },
  {
   "cell_type": "markdown",
   "id": "e3e6744d",
   "metadata": {},
   "source": [
    "# (3) AVERAGE RATING OF ANY REVIEW MARKED \"COOL\""
   ]
  },
  {
   "cell_type": "code",
   "execution_count": 11,
   "id": "5ba4452f",
   "metadata": {},
   "outputs": [
    {
     "name": "stdout",
     "output_type": "stream",
     "text": [
      "Writing avgrating.py\n"
     ]
    }
   ],
   "source": [
    "%%file avgrating.py\n",
    "#importing necessary modules\n",
    "from mrjob.job import MRJob\n",
    "import csv\n",
    "from statistics import mean\n",
    "\n",
    "# define the MRavgrating class, inheriting from MRJob\n",
    "\n",
    "class MRavgrating(MRJob):\n",
    "    \n",
    "    # mapper function processes each line of input\n",
    "    def mapper(self, _, line):\n",
    "        # parse the CSV row from the input line\n",
    "        row = next(csv.reader([line]))\n",
    "        id,business_id,date,review_id,stars,text,type,user_id,cool,useful,funny=row\n",
    "        \n",
    "        # Check conditions to filter relevant data\n",
    "        if (cool!=0 and stars != \"stars\"):\n",
    "            \n",
    "            # emit a key-value pair with key=1 and value=stars as an integer\n",
    "            yield 1,int(stars)\n",
    "            \n",
    "    # reducer function calculates the average of received values    \n",
    "    def reducer(self, key, values):\n",
    "        values = list(values)\n",
    "        a=sum(values)\n",
    "        b=len(values)\n",
    "        average_words = a / b\n",
    "        yield None, average_words\n",
    "\n",
    "# entry point to run the MRavgrating MapReduce job\n",
    "if __name__ == '__main__':\n",
    "    MRavgrating.run()"
   ]
  },
  {
   "cell_type": "code",
   "execution_count": 12,
   "id": "547aa3f3",
   "metadata": {},
   "outputs": [
    {
     "name": "stderr",
     "output_type": "stream",
     "text": [
      "No configs specified for inline runner\n"
     ]
    },
    {
     "name": "stdout",
     "output_type": "stream",
     "text": [
      "average 3.7775\n"
     ]
    }
   ],
   "source": [
    "import avgrating\n",
    "mr_job = avgrating.MRavgrating(args=['yelp_df.csv'])\n",
    "with mr_job.make_runner() as runner:\n",
    "    runner.run()\n",
    "    \n",
    "    # Iterate through the key-value pairs in the output and print the average stars\n",
    "    for key, value in mr_job.parse_output(runner.cat_output()):\n",
    "        print(\"average\",value)"
   ]
  },
  {
   "cell_type": "code",
   "execution_count": null,
   "id": "efc44587",
   "metadata": {},
   "outputs": [],
   "source": []
  }
 ],
 "metadata": {
  "kernelspec": {
   "display_name": "Python 3 (ipykernel)",
   "language": "python",
   "name": "python3"
  },
  "language_info": {
   "codemirror_mode": {
    "name": "ipython",
    "version": 3
   },
   "file_extension": ".py",
   "mimetype": "text/x-python",
   "name": "python",
   "nbconvert_exporter": "python",
   "pygments_lexer": "ipython3",
   "version": "3.11.5"
  }
 },
 "nbformat": 4,
 "nbformat_minor": 5
}
