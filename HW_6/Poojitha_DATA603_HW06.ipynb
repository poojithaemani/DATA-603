{
 "cells": [
  {
   "cell_type": "code",
   "execution_count": 1,
   "metadata": {
    "colab": {
     "base_uri": "https://localhost:8080/"
    },
    "id": "6GLH22m6NtMX",
    "outputId": "fffce90b-2184-4387-9684-4ef099a1b42a"
   },
   "outputs": [
    {
     "name": "stdout",
     "output_type": "stream",
     "text": [
      "Collecting pyspark\n",
      "  Downloading pyspark-3.5.1.tar.gz (317.0 MB)\n",
      "\u001b[2K     \u001b[90m━━━━━━━━━━━━━━━━━━━━━━━━━━━━━━━━━━━━━━━━\u001b[0m \u001b[32m317.0/317.0 MB\u001b[0m \u001b[31m4.5 MB/s\u001b[0m eta \u001b[36m0:00:00\u001b[0m\n",
      "\u001b[?25h  Preparing metadata (setup.py) ... \u001b[?25l\u001b[?25hdone\n",
      "Requirement already satisfied: py4j==0.10.9.7 in /usr/local/lib/python3.10/dist-packages (from pyspark) (0.10.9.7)\n",
      "Building wheels for collected packages: pyspark\n",
      "  Building wheel for pyspark (setup.py) ... \u001b[?25l\u001b[?25hdone\n",
      "  Created wheel for pyspark: filename=pyspark-3.5.1-py2.py3-none-any.whl size=317488493 sha256=533d52f0665a552faff648226b2bbb82a929cbaa1e0feb8d0dd7c0327caca2a7\n",
      "  Stored in directory: /root/.cache/pip/wheels/80/1d/60/2c256ed38dddce2fdd93be545214a63e02fbd8d74fb0b7f3a6\n",
      "Successfully built pyspark\n",
      "Installing collected packages: pyspark\n",
      "Successfully installed pyspark-3.5.1\n"
     ]
    }
   ],
   "source": [
    "#installing pyspark\n",
    "!pip install pyspark"
   ]
  },
  {
   "cell_type": "code",
   "execution_count": null,
   "metadata": {
    "id": "2wG46iyzQZLI"
   },
   "outputs": [],
   "source": [
    "#importing required libraries\n",
    "from pyspark.sql import SparkSession\n",
    "from pyspark.sql.types import StructType, StructField, StringType,IntegerType,TimestampType\n",
    "from pyspark.sql.functions import year, month,col,first,to_timestamp,count,desc,isnull\n",
    "from pyspark.sql import functions as F\n",
    "spark = SparkSession.builder.appName(\"Crimedata\").getOrCreate()"
   ]
  },
  {
   "cell_type": "code",
   "execution_count": null,
   "metadata": {
    "id": "fdbd0c77"
   },
   "outputs": [],
   "source": [
    "# (1) schema for crime dataset\n",
    "schema_dict = {\n",
    "    \"X\": StringType(),\n",
    "    \"Y\": StringType(),\n",
    "    \"RowID\": StringType(),\n",
    "    \"CCNumber\": StringType(),\n",
    "    \"CrimeDateTime\": StringType(),\n",
    "    \"CrimeCode\": StringType(),\n",
    "    \"Description\": StringType(),\n",
    "    \"Inside_Outside\": StringType(),\n",
    "    \"Weapon\": StringType(),\n",
    "    \"Post\": StringType(),\n",
    "    \"Gender\": StringType(),\n",
    "    \"Age\": IntegerType(),\n",
    "    \"Race\": StringType(),\n",
    "    \"Ethnicity\": StringType(),\n",
    "    \"Location\": StringType(),\n",
    "    \"Old_District\": StringType(),\n",
    "    \"New_District\": StringType(),\n",
    "    \"Neighborhood\": StringType(),\n",
    "    \"Latitude\": StringType(),\n",
    "    \"Longitude\": StringType(),\n",
    "    \"GeoLocation\": StringType(),\n",
    "    \"PremiseType\": StringType(),\n",
    "    \"Total_Incidents\": IntegerType()\n",
    "}\n",
    "\n",
    "# Creating StructFields from the dictionary\n",
    "fields = [StructField(key, value, True) for key, value in schema_dict.items()]\n",
    "\n",
    "# Creating StructType from the StructFields\n",
    "schema = StructType(fields)\n",
    "\n",
    "\n"
   ]
  },
  {
   "cell_type": "code",
   "execution_count": null,
   "metadata": {
    "id": "13ded365"
   },
   "outputs": [],
   "source": [
    "# (2) reading csv file using schema definition\n",
    "from pyspark.sql import SparkSession\n",
    "df = spark.read.csv(\"Crime_Data.csv\", schema=schema)"
   ]
  },
  {
   "cell_type": "code",
   "execution_count": null,
   "metadata": {
    "colab": {
     "base_uri": "https://localhost:8080/"
    },
    "id": "zwWdZXSsQvBE",
    "outputId": "d6b456cb-8a46-4c56-b8ad-e909ddbc204f"
   },
   "outputs": [
    {
     "data": {
      "text/plain": [
       "DataFrame[X: string, Y: string, RowID: string, CCNumber: string, CrimeDateTime: string, CrimeCode: string, Description: string, Inside_Outside: string, Weapon: string, Post: string, Gender: string, Age: string, Race: string, Ethnicity: string, Location: string, Old_District: string, New_District: string, Neighborhood: string, Latitude: string, Longitude: string, GeoLocation: string, PremiseType: string, Total_Incidents: string]"
      ]
     },
     "execution_count": 95,
     "metadata": {},
     "output_type": "execute_result"
    }
   ],
   "source": [
    "# (3) cache the dataframe\n",
    "from pyspark.sql import SparkSession\n",
    "\n",
    "# Create a SparkSession\n",
    "spark = SparkSession.builder \\\n",
    "    .appName(\"Caching DataFrame\") \\\n",
    "    .getOrCreate()\n",
    "\n",
    "df = spark.read.csv(\"Crime_Data.csv\", header=True)  # Replace \"your_csv_file.csv\" with your CSV file\n",
    "\n",
    "# (3) cache the dataframe\n",
    "df.cache()"
   ]
  },
  {
   "cell_type": "code",
   "execution_count": null,
   "metadata": {
    "colab": {
     "base_uri": "https://localhost:8080/"
    },
    "id": "WQF8XumNR5Un",
    "outputId": "ac5755cc-1998-4614-e542-3e343f5ca294"
   },
   "outputs": [
    {
     "name": "stdout",
     "output_type": "stream",
     "text": [
      "+-----------------+----------------+-----+--------+--------------------+---------+-----------------+--------------+-------+----+------+----+--------------------+---------+------------------+------------+------------+--------------------+------------------+-------------------+--------------------+--------------------+---------------+\n",
      "|                X|               Y|RowID|CCNumber|       CrimeDateTime|CrimeCode|      Description|Inside_Outside| Weapon|Post|Gender| Age|                Race|Ethnicity|          Location|Old_District|New_District|        Neighborhood|          Latitude|          Longitude|         GeoLocation|         PremiseType|Total_Incidents|\n",
      "+-----------------+----------------+-----+--------+--------------------+---------+-----------------+--------------+-------+----+------+----+--------------------+---------+------------------+------------+------------+--------------------+------------------+-------------------+--------------------+--------------------+---------------+\n",
      "|          -76.665|39.2945260000001|    1|13L06334|2013/12/14 22:10:...|      3AF|          ROBBERY|             O|FIREARM| 814|     M|  36|BLACK_OR_AFRICAN_...|     NULL|2900 EDMONDSON AVE|   SOUTHWEST|         N/A|   FRANKLINTOWN ROAD|         39.294526|            -76.665| (39.294526,-76.665)|STREET              |              1|\n",
      "|-76.5646639999999|39.2914440000001|    2|13L05902|2013/12/14 17:27:...|       4C|     AGG. ASSAULT|             O|  OTHER| 223|     F|  34|               WHITE|     NULL|     100 FAGLEY ST|   SOUTHEAST|         N/A| BALTIMORE HIGHLANDS|         39.291444|         -76.564664|(39.291444,-76.56...|STREET              |              1|\n",
      "|       -76.593647|       39.285515|    3|13L05908|2013/12/14 02:00:...|       4E|   COMMON ASSAULT|             O|     NA| 213|     F|  44|BLACK_OR_AFRICAN_...|     NULL|      500 BROADWAY|   SOUTHEAST|         N/A|         FELLS POINT|         39.285515|         -76.593647|(39.285515,-76.59...|STREET              |              1|\n",
      "|       -76.676412|39.3347180000001|    4|13L06261|2013/12/14 16:30:...|       4D|     AGG. ASSAULT|             I|  HANDS| 623|     F|  19|BLACK_OR_AFRICAN_...|     NULL|  3700 BOARMAN AVE|   NORTHWEST|         N/A|   CALLAWAY-GARRISON|         39.334718|         -76.676412|(39.334718,-76.67...|APT/CONDO - OCCUPIED|              1|\n",
      "|        -76.61959|39.2929500000001|    5|13L03805|2013/12/09 15:42:...|       6J|          LARCENY|             I|     NA| 114|     U|NULL|             UNKNOWN|     NULL|   300 N HOWARD ST|     CENTRAL|         N/A|            DOWNTOWN|          39.29295|          -76.61959|(39.29295,-76.61959)|   CONVENIENCE STORE|              1|\n",
      "|       -76.663739|39.3358490000001|    6|13L03724|2013/12/09 12:30:...|       4C|     AGG. ASSAULT|             I|  OTHER| 614|     F|  51|BLACK_OR_AFRICAN_...|     NULL|   2700 OSWEGO AVE|   NORTHWEST|         N/A|CENTRAL PARK HEIGHTS|         39.335849|         -76.663739|(39.335849,-76.66...|   ROW/TOWNHOUSE-OCC|              1|\n",
      "|       -76.544614|39.3429600000001|    7|13L03758|2013/12/09 13:50:...|       6G|          LARCENY|             I|     NA| 425|     M|  19|             UNKNOWN|     NULL|    5700 BELAIR RD|   NORTHEAST|         N/A|           FRANKFORD|          39.34296|         -76.544614|(39.34296,-76.544...|OTHER - INSIDE      |              1|\n",
      "|-76.5805359999999|39.2839940000001|    8|13L06547|2013/12/09 01:00:...|       6J|          LARCENY|             I|     NA| 214|     M|  27|               WHITE|     NULL|     700 S ROSE ST|   SOUTHEAST|         N/A|              CANTON|         39.283994|         -76.580536|(39.283994,-76.58...|   ROW/TOWNHOUSE-OCC|              1|\n",
      "|       -76.577016|       39.284135|    9|13L03753|2013/12/09 13:10:...|       6C|          LARCENY|             I|     NA| 214|  NULL|NULL|             UNKNOWN|     NULL|   2800 FOSTER AVE|   SOUTHEAST|         N/A|              CANTON|         39.284135|         -76.577016|(39.284135,-76.57...|RETAIL/SMALL BUSINES|              1|\n",
      "|    -76.590660581|39.2935563090001|   10|13L03878|2013/12/09 05:00:...|       6D|LARCENY FROM AUTO|             O|     NA| 212|     M|  45|BLACK_OR_AFRICAN_...|     NULL|    1800 LAMLEY ST|   SOUTHEAST|         N/A|     WASHINGTON HILL|39.293556308759264|-76.590660580805277|(39.2935563087592...|STREET              |              1|\n",
      "|       -76.539886|39.2875770000001|   11|13L03806|2013/12/09 15:40:...|       6C|          LARCENY|             I|     NA| 232|  NULL|NULL|             UNKNOWN|     NULL|  6300 EASTERN AVE|   SOUTHEAST|         N/A|PULASKI INDUSTRIA...|         39.287577|         -76.539886|(39.287577,-76.53...|HARDWARE/BLDG. SUP. |              1|\n",
      "|       -76.547559|39.3062830000001|   12|13L03907|2013/12/09 19:30:...|       6D|LARCENY FROM AUTO|             O|     NA| 433|     M|  33|             UNKNOWN|     NULL|   1100 HEWITT WAY|   NORTHEAST|         N/A|   ARMISTEAD GARDENS|         39.306283|         -76.547559|(39.306283,-76.54...|STREET              |              1|\n",
      "|-76.6662909999999|39.3517850000001|   13|13L03705|2013/12/09 11:40:...|       5B|         BURGLARY|             I|     NA| 532|     M|  51|BLACK_OR_AFRICAN_...|     NULL| 5100 LEVINDALE RD|    NORTHERN|         N/A|           LEVINDALE|         39.351785|         -76.666291|(39.351785,-76.66...|   ROW/TOWNHOUSE-OCC|              1|\n",
      "|       -76.621416|       39.296051|   14|13L03691|2013/12/09 10:55:...|       4E|   COMMON ASSAULT|             I|     NA| 125|     F|  41|BLACK_OR_AFRICAN_...|     NULL|    600 N EUTAW ST|     CENTRAL|         N/A|          SETON HILL|         39.296051|         -76.621416|(39.296051,-76.62...|APT/CONDO - OCCUPIED|              1|\n",
      "|        -76.66761|39.3044570000001|   15|13L05383|2013/12/09 14:30:...|       5A|         BURGLARY|             I|     NA| 813|     F|  43|BLACK_OR_AFRICAN_...|     NULL| 3000 PRESSTMAN ST|   SOUTHWEST|         N/A|            ROSEMONT|         39.304457|          -76.66761|(39.304457,-76.66...|   ROW/TOWNHOUSE-OCC|              1|\n",
      "|       -76.654709|       39.284839|   16|13L03718|2013/12/09 11:00:...|       5B|         BURGLARY|             I|     NA| 835|     M|  65|BLACK_OR_AFRICAN_...|     NULL|    100 WILLARD ST|   SOUTHWEST|         N/A|        SHIPLEY HILL|         39.284839|         -76.654709|(39.284839,-76.65...|   ROW/TOWNHOUSE-OCC|              1|\n",
      "|       -76.678487|       39.286148|   17|13L03889|2013/12/09 19:00:...|      3AF|          ROBBERY|             O|FIREARM| 824|     F|  43|BLACK_OR_AFRICAN_...|     NULL| 0 S MONASTERY AVE|   SOUTHWEST|         N/A|       SAINT JOSEPHS|         39.286148|         -76.678487|(39.286148,-76.67...|STREET              |              1|\n",
      "|-76.5975319999999|       39.296182|   18|13L03609|2013/12/09 01:05:...|       6D|LARCENY FROM AUTO|             O|     NA| 321|     M|  29|BLACK_OR_AFRICAN_...|     NULL| 500 N CAROLINE ST|     EASTERN|         N/A|     DUNBAR-BROADWAY|         39.296182|         -76.597532|(39.296182,-76.59...|STREET              |              1|\n",
      "|       -76.683915|39.2993740000001|   19|13L03787|2013/12/09 14:55:...|       6D|LARCENY FROM AUTO|             O|     NA| 815|     F|  25|               WHITE|     NULL|1100 WILDWOOD PKWY|   SOUTHWEST|         N/A|   EDMONDSON VILLAGE|         39.299374|         -76.683915|(39.299374,-76.68...|STREET              |              1|\n",
      "|       -76.589119|       39.292197|   20|13L04135|2013/12/09 13:00:...|       6D|LARCENY FROM AUTO|             O|     NA| 212|     F|  31|               WHITE|     NULL| 0 N WASHINGTON ST|   SOUTHEAST|         N/A|      BUTCHER'S HILL|         39.292197|         -76.589119|(39.292197,-76.58...|STREET              |              1|\n",
      "+-----------------+----------------+-----+--------+--------------------+---------+-----------------+--------------+-------+----+------+----+--------------------+---------+------------------+------------+------------+--------------------+------------------+-------------------+--------------------+--------------------+---------------+\n",
      "only showing top 20 rows\n",
      "\n"
     ]
    }
   ],
   "source": [
    "df.show()"
   ]
  },
  {
   "cell_type": "code",
   "execution_count": null,
   "metadata": {
    "colab": {
     "base_uri": "https://localhost:8080/"
    },
    "id": "CxNKfsmvSdBG",
    "outputId": "ffa00e9d-b822-41fb-d8ad-a9d2050a749b"
   },
   "outputs": [
    {
     "name": "stdout",
     "output_type": "stream",
     "text": [
      "+------+\n",
      "| count|\n",
      "+------+\n",
      "|587356|\n",
      "+------+\n",
      "\n"
     ]
    }
   ],
   "source": [
    "# (4) Show the count of the rows\n",
    "spark = SparkSession.builder \\\n",
    "    .appName(\"Spark SQL Operations\") \\\n",
    "    .getOrCreate()\n",
    "df.createOrReplaceTempView(\"temp_table\")\n",
    "count_query = \"SELECT COUNT(*) AS count FROM temp_table\"\n",
    "count_df = spark.sql(count_query)\n",
    "count_df.show()"
   ]
  },
  {
   "cell_type": "code",
   "execution_count": null,
   "metadata": {
    "colab": {
     "base_uri": "https://localhost:8080/"
    },
    "id": "QnKzgvwPTChe",
    "outputId": "cef26ba3-a710-405e-b801-3ea5eb001757"
   },
   "outputs": [
    {
     "name": "stdout",
     "output_type": "stream",
     "text": [
      "root\n",
      " |-- X: string (nullable = true)\n",
      " |-- Y: string (nullable = true)\n",
      " |-- RowID: string (nullable = true)\n",
      " |-- CCNumber: string (nullable = true)\n",
      " |-- CrimeDateTime: string (nullable = true)\n",
      " |-- CrimeCode: string (nullable = true)\n",
      " |-- Description: string (nullable = true)\n",
      " |-- Inside_Outside: string (nullable = true)\n",
      " |-- Weapon: string (nullable = true)\n",
      " |-- Post: string (nullable = true)\n",
      " |-- Gender: string (nullable = true)\n",
      " |-- Age: string (nullable = true)\n",
      " |-- Race: string (nullable = true)\n",
      " |-- Ethnicity: string (nullable = true)\n",
      " |-- Location: string (nullable = true)\n",
      " |-- Old_District: string (nullable = true)\n",
      " |-- New_District: string (nullable = true)\n",
      " |-- Neighborhood: string (nullable = true)\n",
      " |-- Latitude: string (nullable = true)\n",
      " |-- Longitude: string (nullable = true)\n",
      " |-- GeoLocation: string (nullable = true)\n",
      " |-- PremiseType: string (nullable = true)\n",
      " |-- Total_Incidents: string (nullable = true)\n",
      "\n"
     ]
    }
   ],
   "source": [
    "# (5) Print the schema\n",
    "df.printSchema()"
   ]
  },
  {
   "cell_type": "code",
   "execution_count": null,
   "metadata": {
    "colab": {
     "base_uri": "https://localhost:8080/"
    },
    "id": "Q2i0qtGCS9tO",
    "outputId": "008bc071-36e3-43cf-e0d0-b50c25cb0331"
   },
   "outputs": [
    {
     "name": "stdout",
     "output_type": "stream",
     "text": [
      "+-----------------+----------------+-----+--------+--------------------+---------+--------------+--------------+-------+----+------+----+--------------------+---------+------------------+------------+------------+-------------------+---------+----------+--------------------+--------------------+---------------+\n",
      "|                X|               Y|RowID|CCNumber|       CrimeDateTime|CrimeCode|   Description|Inside_Outside| Weapon|Post|Gender| Age|                Race|Ethnicity|          Location|Old_District|New_District|       Neighborhood| Latitude| Longitude|         GeoLocation|         PremiseType|Total_Incidents|\n",
      "+-----------------+----------------+-----+--------+--------------------+---------+--------------+--------------+-------+----+------+----+--------------------+---------+------------------+------------+------------+-------------------+---------+----------+--------------------+--------------------+---------------+\n",
      "|          -76.665|39.2945260000001|    1|13L06334|2013/12/14 22:10:...|      3AF|       ROBBERY|             O|FIREARM| 814|     M|  36|BLACK_OR_AFRICAN_...|     NULL|2900 EDMONDSON AVE|   SOUTHWEST|         N/A|  FRANKLINTOWN ROAD|39.294526|   -76.665| (39.294526,-76.665)|STREET              |              1|\n",
      "|-76.5646639999999|39.2914440000001|    2|13L05902|2013/12/14 17:27:...|       4C|  AGG. ASSAULT|             O|  OTHER| 223|     F|  34|               WHITE|     NULL|     100 FAGLEY ST|   SOUTHEAST|         N/A|BALTIMORE HIGHLANDS|39.291444|-76.564664|(39.291444,-76.56...|STREET              |              1|\n",
      "|       -76.593647|       39.285515|    3|13L05908|2013/12/14 02:00:...|       4E|COMMON ASSAULT|             O|     NA| 213|     F|  44|BLACK_OR_AFRICAN_...|     NULL|      500 BROADWAY|   SOUTHEAST|         N/A|        FELLS POINT|39.285515|-76.593647|(39.285515,-76.59...|STREET              |              1|\n",
      "|       -76.676412|39.3347180000001|    4|13L06261|2013/12/14 16:30:...|       4D|  AGG. ASSAULT|             I|  HANDS| 623|     F|  19|BLACK_OR_AFRICAN_...|     NULL|  3700 BOARMAN AVE|   NORTHWEST|         N/A|  CALLAWAY-GARRISON|39.334718|-76.676412|(39.334718,-76.67...|APT/CONDO - OCCUPIED|              1|\n",
      "|        -76.61959|39.2929500000001|    5|13L03805|2013/12/09 15:42:...|       6J|       LARCENY|             I|     NA| 114|     U|NULL|             UNKNOWN|     NULL|   300 N HOWARD ST|     CENTRAL|         N/A|           DOWNTOWN| 39.29295| -76.61959|(39.29295,-76.61959)|   CONVENIENCE STORE|              1|\n",
      "+-----------------+----------------+-----+--------+--------------------+---------+--------------+--------------+-------+----+------+----+--------------------+---------+------------------+------------+------------+-------------------+---------+----------+--------------------+--------------------+---------------+\n",
      "\n"
     ]
    }
   ],
   "source": [
    "# (6) Display first 5 rows\n",
    "first_5_rows_query = \"SELECT * FROM temp_table LIMIT 5\"\n",
    "first_5_rows_df = spark.sql(first_5_rows_query)\n",
    "first_5_rows_df.show()"
   ]
  },
  {
   "cell_type": "code",
   "execution_count": null,
   "metadata": {
    "colab": {
     "base_uri": "https://localhost:8080/"
    },
    "id": "bslCUwGFThd6",
    "outputId": "11da60c6-e3c0-4747-ee6f-df11b190df70"
   },
   "outputs": [
    {
     "name": "stdout",
     "output_type": "stream",
     "text": [
      "+---------+\n",
      "|CrimeCode|\n",
      "+---------+\n",
      "|       3P|\n",
      "|       3K|\n",
      "|      3BJ|\n",
      "|       1A|\n",
      "|       3M|\n",
      "|       5F|\n",
      "|       4B|\n",
      "|       3B|\n",
      "|       7A|\n",
      "|      3NF|\n",
      "|      3EF|\n",
      "|       5D|\n",
      "|       3N|\n",
      "|       6K|\n",
      "|      3LO|\n",
      "|      3AF|\n",
      "|       7B|\n",
      "|      3GO|\n",
      "|     3AJF|\n",
      "|      8GV|\n",
      "+---------+\n",
      "only showing top 20 rows\n",
      "\n"
     ]
    }
   ],
   "source": [
    "# (7.1) Distinct crime codes\n",
    "unique_crime_codes = df.select(\"CrimeCode\").distinct()\n",
    "unique_crime_codes.show()"
   ]
  },
  {
   "cell_type": "code",
   "execution_count": null,
   "metadata": {
    "colab": {
     "base_uri": "https://localhost:8080/"
    },
    "id": "9rC9CHoNT7L4",
    "outputId": "55842865-783a-4fbf-f941-aeb8ce042c92"
   },
   "outputs": [
    {
     "name": "stdout",
     "output_type": "stream",
     "text": [
      "+---------+------+\n",
      "|CrimeCode| count|\n",
      "+---------+------+\n",
      "|       4E|107496|\n",
      "|       6D| 73509|\n",
      "|       5A| 46654|\n",
      "|       7A| 42082|\n",
      "|       6J| 32324|\n",
      "|       6G| 28606|\n",
      "|       6C| 26705|\n",
      "|       4C| 24285|\n",
      "|       6E| 23973|\n",
      "|       4B| 19742|\n",
      "|       4A| 16307|\n",
      "|      3AF| 16096|\n",
      "|       5D| 14970|\n",
      "|       7C| 12577|\n",
      "|       6F| 11884|\n",
      "|       3B| 10645|\n",
      "|       5B|  7944|\n",
      "|       4D|  7345|\n",
      "|       9S|  6543|\n",
      "|       5C|  4912|\n",
      "+---------+------+\n",
      "only showing top 20 rows\n",
      "\n"
     ]
    }
   ],
   "source": [
    "# (7.2) Count the number of crimes by the crime codes and order by the resulting counts in descending order\n",
    "count_of_crimes_desc = df.groupBy(\"CrimeCode\").count().sort(col(\"count\").desc())\n",
    "count_of_crimes_desc.show()"
   ]
  },
  {
   "cell_type": "code",
   "execution_count": null,
   "metadata": {
    "colab": {
     "base_uri": "https://localhost:8080/"
    },
    "id": "D6sevtr0Uew7",
    "outputId": "a48eefe5-ba09-4715-c6db-1fe11efa14f7"
   },
   "outputs": [
    {
     "data": {
      "text/plain": [
       "Row(neighborhood='DOWNTOWN', count=20267)"
      ]
     },
     "execution_count": 102,
     "metadata": {},
     "output_type": "execute_result"
    }
   ],
   "source": [
    "# (7.3) neighbourhood having most crimes\n",
    "crime_count_neighborhood = df.groupBy(\"neighborhood\").count().sort(col(\"count\").desc())\n",
    "crime_count_neighborhood.first()"
   ]
  },
  {
   "cell_type": "code",
   "execution_count": null,
   "metadata": {
    "colab": {
     "base_uri": "https://localhost:8080/"
    },
    "id": "YGN11gpGVwat",
    "outputId": "a06aabbe-c954-43e6-b54e-878557fc976c"
   },
   "outputs": [
    {
     "name": "stdout",
     "output_type": "stream",
     "text": [
      "+----+-----+-----+\n",
      "|Year|month|count|\n",
      "+----+-----+-----+\n",
      "|2018|   10| 4577|\n",
      "|2023|    9| 4540|\n",
      "|2016|    7| 4107|\n",
      "|2012|   10| 4106|\n",
      "|2011|    3| 4104|\n",
      "|2019|   10| 3924|\n",
      "|2017|    3| 3784|\n",
      "|2014|    4| 3691|\n",
      "|2022|   10| 3684|\n",
      "|2021|    8| 3488|\n",
      "|2020|    6| 3140|\n",
      "|2013|    2| 3116|\n",
      "|2015|    2| 2606|\n",
      "|2008|    1|    4|\n",
      "|1978|    1|    3|\n",
      "|2001|    1|    3|\n",
      "|2010|    7|    3|\n",
      "|2006|    7|    2|\n",
      "|2004|    4|    2|\n",
      "|1982|    6|    2|\n",
      "+----+-----+-----+\n",
      "only showing top 20 rows\n",
      "\n"
     ]
    }
   ],
   "source": [
    "# (7.4) which month of the year had most crimes?\n",
    "df = df.withColumn(\"CrimeDateTime\", to_timestamp(df[\"CrimeDateTime\"], \"yyyy/MM/dd HH:mm:ssX\"))\n",
    "df = df.withColumn(\"Year\", year(\"CrimeDateTime\"))#creating a column for year and month\n",
    "df = df.withColumn(\"Month\", month(\"CrimeDateTime\"))\n",
    "crime_count = df.groupBy([\"Year\", \"Month\"]).agg(F.count(\"*\").alias(\"Count\"))\n",
    "\n",
    "#filtering the null values in the year column\n",
    "crime_high_in_month = crime_count.filter(~isnull(\"Year\")).groupBy(\"Year\").agg(\n",
    "                        first(\"Month\").alias(\"month\"),\n",
    "                        first(\"Count\").alias(\"count\")\n",
    "                        ).sort(col(\"count\").desc())\n",
    "\n",
    "crime_high_in_month.show(20)"
   ]
  },
  {
   "cell_type": "code",
   "execution_count": null,
   "metadata": {
    "colab": {
     "base_uri": "https://localhost:8080/"
    },
    "id": "7qlfIcCqXcBA",
    "outputId": "528ad275-5415-4145-8aee-c133db1350fa"
   },
   "outputs": [
    {
     "name": "stdout",
     "output_type": "stream",
     "text": [
      "+--------------------+\n",
      "|              weapon|\n",
      "+--------------------+\n",
      "|KNIFE_CUTTING_INS...|\n",
      "|     AUTOMATIC_RIFLE|\n",
      "|        BLUNT_OBJECT|\n",
      "|       OTHER_FIREARM|\n",
      "|        ASPHYXIATION|\n",
      "|                  NA|\n",
      "|FIRE_INCENDIARY_D...|\n",
      "|   AUTOMATIC_HANDGUN|\n",
      "|               HANDS|\n",
      "|   AUTOMATIC_SHOTGUN|\n",
      "|               KNIFE|\n",
      "|             UNKNOWN|\n",
      "|    PERSONAL_WEAPONS|\n",
      "|          EXPLOSIVES|\n",
      "|MOTOR_VEHICLE_VESSEL|\n",
      "|               OTHER|\n",
      "|   AUTOMATIC_FIREARM|\n",
      "|DRUGS_NARCOTICS_S...|\n",
      "|               RIFLE|\n",
      "|                FIRE|\n",
      "+--------------------+\n",
      "only showing top 20 rows\n",
      "\n"
     ]
    }
   ],
   "source": [
    "# (7.5) Weapons used\n",
    "unique_weapons_used = df.select(\"weapon\").distinct()\n",
    "unique_weapons_used.show()"
   ]
  },
  {
   "cell_type": "code",
   "execution_count": null,
   "metadata": {
    "colab": {
     "base_uri": "https://localhost:8080/"
    },
    "id": "8Txb9pJSXghD",
    "outputId": "6348da25-8528-4230-d8f9-246b95b5083b"
   },
   "outputs": [
    {
     "data": {
      "text/plain": [
       "Row(Weapon='FIREARM', count=47672)"
      ]
     },
     "execution_count": 105,
     "metadata": {},
     "output_type": "execute_result"
    }
   ],
   "source": [
    "# (7.6) Which weapon was used the most?\n",
    "df = df.filter(~df[\"Weapon\"].isin(\"NA\", \"None\", \"Unknown\")) #filtering the null\n",
    "weapon_crime_counts = df.groupBy(\"Weapon\").count().orderBy(col(\"count\").desc())\n",
    "weapon_crime_counts.first()"
   ]
  }
 ],
 "metadata": {
  "colab": {
   "provenance": []
  },
  "kernelspec": {
   "display_name": "Python 3 (ipykernel)",
   "language": "python",
   "name": "python3"
  },
  "language_info": {
   "codemirror_mode": {
    "name": "ipython",
    "version": 3
   },
   "file_extension": ".py",
   "mimetype": "text/x-python",
   "name": "python",
   "nbconvert_exporter": "python",
   "pygments_lexer": "ipython3",
   "version": "3.11.5"
  }
 },
 "nbformat": 4,
 "nbformat_minor": 1
}
